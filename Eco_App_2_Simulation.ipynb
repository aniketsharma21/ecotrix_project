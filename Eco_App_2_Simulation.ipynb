{
 "cells": [
  {
   "cell_type": "code",
   "execution_count": 1,
   "id": "f713bca9",
   "metadata": {},
   "outputs": [],
   "source": [
    "import numpy as np\n",
    "import matplotlib.pyplot as plt\n",
    "import math\n",
    "import datetime\n",
    "from scipy.stats import norm, t\n",
    "import random\n",
    "import math\n",
    "from scipy.stats import chi2"
   ]
  },
  {
   "cell_type": "markdown",
   "id": "25504181",
   "metadata": {},
   "source": [
    "## Accept - Reject Method"
   ]
  },
  {
   "cell_type": "markdown",
   "id": "4bce7303",
   "metadata": {},
   "source": [
    "Here we take a standard normal distribution taking it as the proposal distribution we stimulate t"
   ]
  },
  {
   "cell_type": "code",
   "execution_count": 2,
   "id": "3aea69f4",
   "metadata": {},
   "outputs": [],
   "source": [
    "standard_normal = norm(loc=0, scale=1)"
   ]
  },
  {
   "cell_type": "code",
   "execution_count": 3,
   "id": "afa4484f",
   "metadata": {},
   "outputs": [],
   "source": [
    "# setting the degrees of freedom\n",
    "nu = 5\n",
    "# M = t.pdf(0, nu) /standard_normal.pdf(0)\n",
    "M = 10"
   ]
  },
  {
   "cell_type": "code",
   "execution_count": 4,
   "id": "8bd73afe",
   "metadata": {},
   "outputs": [],
   "source": [
    "num_samples = 1000"
   ]
  },
  {
   "cell_type": "code",
   "execution_count": 5,
   "id": "f8320cac",
   "metadata": {},
   "outputs": [],
   "source": [
    "startTime = datetime.datetime.now()\n",
    "samples = []\n",
    "while len(samples) < num_samples:\n",
    "    u = np.random.uniform(0,1)\n",
    "    x = np.random.uniform(-500,500)\n",
    "    if u <= t.pdf(x, nu) / t.pdf(0, nu):\n",
    "        samples.append(x)\n",
    "endTime = datetime.datetime.now()"
   ]
  },
  {
   "cell_type": "code",
   "execution_count": 6,
   "id": "181dd785",
   "metadata": {},
   "outputs": [],
   "source": [
    "# startTime = datetime.datetime.now()\n",
    "# # Generate samples using the accept-reject method\n",
    "# samples = []\n",
    "# while len(samples) < num_samples:\n",
    "#     u = random.uniform(0, 1)\n",
    "#     y = random.uniform(0, 1)\n",
    "#     w = random.uniform(0, 1)\n",
    "\n",
    "#     if -2*math.log(y) >= (math.log(u) + 1)**2:\n",
    "#         z = -math.log(u)\n",
    "#     if w >= 0.5:\n",
    "#         x = z\n",
    "#     else:\n",
    "#         x = -z\n",
    "#     v = np.random.uniform(0, 1)\n",
    "#     if v <= t.pdf(x, nu) / (M * standard_normal.pdf(x)):\n",
    "#         samples.append(x)\n",
    "# endTime = datetime.datetime.now()"
   ]
  },
  {
   "cell_type": "code",
   "execution_count": 7,
   "id": "c852ee97",
   "metadata": {},
   "outputs": [
    {
     "name": "stdout",
     "output_type": "stream",
     "text": [
      "0:01:55.988903\n"
     ]
    }
   ],
   "source": [
    "print(endTime - startTime) "
   ]
  },
  {
   "cell_type": "code",
   "execution_count": 8,
   "id": "5e30e0e3",
   "metadata": {},
   "outputs": [],
   "source": [
    "startTime = datetime.datetime.now()\n",
    "t_library = t.rvs(df=5, size=1000)\n",
    "endTime = datetime.datetime.now()"
   ]
  },
  {
   "cell_type": "code",
   "execution_count": 9,
   "id": "c28ab258",
   "metadata": {},
   "outputs": [
    {
     "name": "stdout",
     "output_type": "stream",
     "text": [
      "0:00:00\n"
     ]
    }
   ],
   "source": [
    "print(endTime - startTime)"
   ]
  },
  {
   "cell_type": "code",
   "execution_count": 10,
   "id": "89e25dd1",
   "metadata": {},
   "outputs": [
    {
     "data": {
      "image/png": "[encoded data removed]",
      "text/plain": [
       "<Figure size 432x288 with 1 Axes>"
      ]
     },
     "metadata": {
      "needs_background": "light"
     },
     "output_type": "display_data"
    }
   ],
   "source": [
    "fig, ax = plt.subplots(1, 1)\n",
    "ax.hist(samples, histtype='stepfilled', alpha=0.9)\n",
    "plt.show()"
   ]
  },
  {
   "cell_type": "code",
   "execution_count": 16,
   "id": "e4c7d0e9",
   "metadata": {},
   "outputs": [
    {
     "name": "stderr",
     "output_type": "stream",
     "text": [
      "No handles with labels found to put in legend.\n"
     ]
    },
    {
     "data": {
      "image/png": "[encoded data removed]",
      "text/plain": [
       "<Figure size 432x288 with 1 Axes>"
      ]
     },
     "metadata": {
      "needs_background": "light"
     },
     "output_type": "display_data"
    }
   ],
   "source": [
    "# Plot the histogram of the samples\n",
    "plt.hist(samples, bins=300,density=True, alpha = 0.9)\n",
    "\n",
    "x = np.linspace(-40,40,1000)\n",
    "\n",
    "# Calculate the PDF values for the t distribution with 5 degrees of freedom\n",
    "pdf_values = t.pdf(x, df=5)\n",
    "\n",
    "# Plot the PDF curve on top of the histogram\n",
    "plt.plot(x, pdf_values, alpha = 0.6)\n",
    "\n",
    "# Set the axis labels and legend\n",
    "plt.xlabel('X')\n",
    "plt.ylabel('Probability Density')\n",
    "plt.legend()\n",
    "\n",
    "# Show the plot\n",
    "plt.show()\n"
   ]
  },
  {
   "cell_type": "markdown",
   "id": "30f7968b",
   "metadata": {},
   "source": [
    "## 2nd Method"
   ]
  },
  {
   "cell_type": "code",
   "execution_count": 13,
   "id": "0085749f",
   "metadata": {},
   "outputs": [],
   "source": [
    "k = 5\n",
    "# Set number of samples to generate\n",
    "n = 10000\n",
    "\n",
    "startTime = datetime.datetime.now()\n",
    "chi_samples = []\n",
    "while len(chi_samples) < n:\n",
    "    \n",
    "    l = []\n",
    "    while len(l) <= k:\n",
    "\n",
    "        # Generate a random number between 0 and 1\n",
    "        u = random.uniform(0, 1)\n",
    "        y = random.uniform(0, 1)\n",
    "        w = random.uniform(0, 1)\n",
    "\n",
    "        if -2*math.log(y) >= (math.log(u) + 1)**2:\n",
    "            z = -math.log(u)\n",
    "        if w >= 0.5:\n",
    "            x = z\n",
    "        else:\n",
    "            x = -z\n",
    "        l.append(x)\n",
    "\n",
    "    chi = sum(i*i for i in l)\n",
    "    chi_samples.append(chi)\n",
    "    \n",
    "n1 = np.random.normal(0, 1,10000)\n",
    "n = n1.tolist()\n",
    "chi_samples = [x / k for x in chi_samples]\n",
    "sqrt = [math.sqrt(num) for num in chi_samples]\n",
    "result = []\n",
    "\n",
    "# get last index for the lists for iteration\n",
    "end_index = len(sqrt)\n",
    "\n",
    "for i in range(end_index):\n",
    "    result.append(n[i]/sqrt[i])\n",
    "    \n",
    "endTime = datetime.datetime.now()"
   ]
  },
  {
   "cell_type": "code",
   "execution_count": 14,
   "id": "1ef9404b",
   "metadata": {},
   "outputs": [
    {
     "name": "stdout",
     "output_type": "stream",
     "text": [
      "0:00:00.286039\n"
     ]
    }
   ],
   "source": [
    "print(endTime - startTime) "
   ]
  },
  {
   "cell_type": "code",
   "execution_count": 15,
   "id": "df959b07",
   "metadata": {},
   "outputs": [
    {
     "data": {
      "image/png": "[encoded data removed]",
      "text/plain": [
       "<Figure size 432x288 with 1 Axes>"
      ]
     },
     "metadata": {
      "needs_background": "light"
     },
     "output_type": "display_data"
    }
   ],
   "source": [
    "fig, ax = plt.subplots(1, 1)\n",
    "ax.hist(result,bins = 300, histtype='stepfilled')\n",
    "plt.show()"
   ]
  },
  {
   "cell_type": "code",
   "execution_count": 17,
   "id": "6eff6bd5",
   "metadata": {},
   "outputs": [
    {
     "name": "stderr",
     "output_type": "stream",
     "text": [
      "No handles with labels found to put in legend.\n"
     ]
    },
    {
     "data": {
      "image/png": "[encoded data removed]",
      "text/plain": [
       "<Figure size 432x288 with 1 Axes>"
      ]
     },
     "metadata": {
      "needs_background": "light"
     },
     "output_type": "display_data"
    }
   ],
   "source": [
    "# Plot the histogram of the samples\n",
    "plt.hist(result, bins=300,density=True, alpha = 0.5)\n",
    "\n",
    "x = np.linspace(-30,30,10000)\n",
    "\n",
    "# Calculate the PDF values for the t distribution with 3 degrees of freedom\n",
    "pdf_values = t.pdf(x, df=3)\n",
    "\n",
    "# Plot the PDF curve on top of the histogram\n",
    "plt.plot(x, pdf_values, alpha = 0.9)\n",
    "\n",
    "# Set the axis labels and legend\n",
    "plt.xlabel('X')\n",
    "plt.ylabel('Probability Density')\n",
    "plt.legend()\n",
    "\n",
    "# Show the plot\n",
    "plt.show()"
   ]
  },
  {
   "cell_type": "code",
   "execution_count": null,
   "id": "b11b0568",
   "metadata": {},
   "outputs": [],
   "source": []
  }
 ],
 "metadata": {
  "kernelspec": {
   "display_name": "Python 3 (ipykernel)",
   "language": "python",
   "name": "python3"
  },
  "language_info": {
   "codemirror_mode": {
    "name": "ipython",
    "version": 3
   },
   "file_extension": ".py",
   "mimetype": "text/x-python",
   "name": "python",
   "nbconvert_exporter": "python",
   "pygments_lexer": "ipython3",
   "version": "3.9.7"
  }
 },
 "nbformat": 4,
 "nbformat_minor": 5
}
