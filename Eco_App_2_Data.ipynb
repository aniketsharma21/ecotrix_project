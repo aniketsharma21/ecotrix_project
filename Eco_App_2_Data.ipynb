{
 "cells": [
  {
   "cell_type": "code",
   "execution_count": 1,
   "id": "82ca57f9",
   "metadata": {},
   "outputs": [],
   "source": [
    "import pandas as pd\n",
    "import seaborn as sns\n",
    "import numpy as np\n",
    "import statsmodels.api as sm\n",
    "import matplotlib.pyplot as plt\n",
    "from sklearn.neighbors import KernelDensity\n",
    "from sklearn.model_selection import train_test_split\n",
    "from sklearn.linear_model import LinearRegression\n",
    "from sklearn.kernel_ridge import KernelRidge\n",
    "from sklearn.neighbors import KNeighborsRegressor\n",
    "from sklearn.model_selection import train_test_split\n",
    "from sklearn.metrics import mean_squared_error\n",
    "from sklearn.model_selection import KFold, cross_val_score\n",
    "from statsmodels.nonparametric.kernel_regression import KernelReg\n",
    "import numpy as np\n",
    "from sklearn.metrics import r2_score"
   ]
  },
  {
   "cell_type": "code",
   "execution_count": 2,
   "id": "af2169ed",
   "metadata": {},
   "outputs": [],
   "source": [
    "df = pd.read_spss(\"C:\\\\Users\\\\Asus\\\\Documents\\\\PYTHON CODE\\\\TAMIL_NADU\\\\Tamilnadu_cnns_1.sav\")"
   ]
  },
  {
   "cell_type": "code",
   "execution_count": 3,
   "id": "5d084a03",
   "metadata": {},
   "outputs": [
    {
     "data": {
      "text/plain": [
       "(1861, 121)"
      ]
     },
     "execution_count": 3,
     "metadata": {},
     "output_type": "execute_result"
    }
   ],
   "source": [
    "df.shape"
   ]
  },
  {
   "cell_type": "markdown",
   "id": "1d9d9110",
   "metadata": {},
   "source": [
    "## Data preprocessing"
   ]
  },
  {
   "cell_type": "code",
   "execution_count": 4,
   "id": "5ae8afd1",
   "metadata": {},
   "outputs": [],
   "source": [
    "df['state_weight_survey'] = df['state_weight_survey'].round(2)\n",
    "df['state_weight_survey'] = df['state_weight_survey'] * 100\n",
    "df['state_weight_survey'] = df['state_weight_survey'].astype(int)\n",
    "new_df = df.loc[np.repeat(df.index.values, df['state_weight_survey'])]\n",
    "\n",
    "# reset the index of the new DataFrame\n",
    "new_df = new_df.reset_index(drop=True)"
   ]
  },
  {
   "cell_type": "code",
   "execution_count": 5,
   "id": "0c0a8aea",
   "metadata": {},
   "outputs": [
    {
     "data": {
      "text/plain": [
       "(186044, 121)"
      ]
     },
     "execution_count": 5,
     "metadata": {},
     "output_type": "execute_result"
    }
   ],
   "source": [
    "new_df.shape"
   ]
  },
  {
   "cell_type": "code",
   "execution_count": 6,
   "id": "4f11c620",
   "metadata": {},
   "outputs": [
    {
     "data": {
      "text/plain": [
       "125063"
      ]
     },
     "execution_count": 6,
     "metadata": {},
     "output_type": "execute_result"
    }
   ],
   "source": [
    "new_df['hgbn_alt_unic'].isnull().sum()"
   ]
  },
  {
   "cell_type": "code",
   "execution_count": 7,
   "id": "aba191ed",
   "metadata": {},
   "outputs": [],
   "source": [
    "new_df['hgbn_alt_unic'] = pd.to_numeric(new_df['hgbn_alt_unic'], errors='coerce')\n",
    "#new_df = new_df.dropna(subset=['hgbn_alt_unic'])"
   ]
  },
  {
   "cell_type": "code",
   "execution_count": 8,
   "id": "c113caa0",
   "metadata": {},
   "outputs": [],
   "source": [
    "new_df_1 = new_df.dropna(subset=['hgbn_alt_unic'])\n",
    "corr = new_df_1.corr()['hgbn_alt_unic']\n",
    "corr_sorted = corr.sort_values(ascending=False)"
   ]
  },
  {
   "cell_type": "code",
   "execution_count": 9,
   "id": "de5d3dd7",
   "metadata": {},
   "outputs": [
    {
     "data": {
      "text/plain": [
       "hgbn_alt_unic          1.000000\n",
       "q113y                  1.000000\n",
       "q902r2                 0.312857\n",
       "q902r1                 0.301400\n",
       "height                 0.301234\n",
       "z_tsft                 0.205368\n",
       "q901r1                 0.198141\n",
       "agemons                0.167059\n",
       "bp_sys1                0.166430\n",
       "q104                   0.156873\n",
       "bp_sys2                0.151160\n",
       "q903r1                 0.138476\n",
       "muac                   0.137816\n",
       "q903r2                 0.137145\n",
       "z_ssft                 0.112614\n",
       "reg_weight_bio         0.069745\n",
       "nat_weight_bio         0.069745\n",
       "q906r2                 0.067339\n",
       "wc                     0.067181\n",
       "q906r1                 0.067022\n",
       "state_weight_bio       0.066304\n",
       "nat_weight_survey      0.047091\n",
       "reg_weight_survey      0.047091\n",
       "@_zhfa                 0.046580\n",
       "bp_sys3                0.043978\n",
       "state_weight_survey    0.039599\n",
       "@_cbmi                 0.034776\n",
       "hh_no                  0.028245\n",
       "int_d                  0.027516\n",
       "bp_dysys1              0.023446\n",
       "bp_dysys2              0.023079\n",
       "psu_no                 0.019744\n",
       "psu_no_ov              0.019744\n",
       "ssft                   0.010401\n",
       "q905r1                 0.009887\n",
       "q905r2                 0.008197\n",
       "bp_dysys3             -0.000720\n",
       "@_fbfa                -0.004557\n",
       "q201J                 -0.008133\n",
       "caseid                -0.011782\n",
       "@_zbfa                -0.020173\n",
       "z_wc                  -0.022899\n",
       "z_muac                -0.028510\n",
       "@_fhfa                -0.037718\n",
       "int_m                 -0.038553\n",
       "@_zwfa                -0.054036\n",
       "tsft                  -0.090750\n",
       "q904r1                -0.091458\n",
       "q904r2                -0.092958\n",
       "q113m                 -1.000000\n",
       "int_y                       NaN\n",
       "q201I                       NaN\n",
       "@_fwfa                      NaN\n",
       "Name: hgbn_alt_unic, dtype: float64"
      ]
     },
     "execution_count": 9,
     "metadata": {},
     "output_type": "execute_result"
    }
   ],
   "source": [
    "corr_sorted # muac,q901r1,wc,height,ssft"
   ]
  },
  {
   "cell_type": "code",
   "execution_count": 10,
   "id": "008e2c76",
   "metadata": {},
   "outputs": [],
   "source": [
    "subset_df = new_df_1[['hgbn_alt_unic','q901r1','muac','tsft','q102']] # haemoglobin, bmi, low average,height\n",
    "# BMI-for-age Z score, (muac,weight,height), wealth index,nutritional intake - mean vit A, mean iron"
   ]
  },
  {
   "cell_type": "code",
   "execution_count": 11,
   "id": "c08f4884",
   "metadata": {},
   "outputs": [
    {
     "data": {
      "text/plain": [
       "male      30309\n",
       "female    28555\n",
       "Name: q102, dtype: int64"
      ]
     },
     "execution_count": 11,
     "metadata": {},
     "output_type": "execute_result"
    }
   ],
   "source": [
    "subset_df['q102'].value_counts()"
   ]
  },
  {
   "cell_type": "code",
   "execution_count": 12,
   "id": "079ce585",
   "metadata": {},
   "outputs": [
    {
     "name": "stderr",
     "output_type": "stream",
     "text": [
      "C:\\Users\\Asus\\anaconda3\\lib\\site-packages\\pandas\\core\\generic.py:5516: SettingWithCopyWarning: \n",
      "A value is trying to be set on a copy of a slice from a DataFrame.\n",
      "Try using .loc[row_indexer,col_indexer] = value instead\n",
      "\n",
      "See the caveats in the documentation: https://pandas.pydata.org/pandas-docs/stable/user_guide/indexing.html#returning-a-view-versus-a-copy\n",
      "  self[name] = value\n"
     ]
    }
   ],
   "source": [
    "subset_df.q102 = subset_df.q102.map({'male':1,'female':2})"
   ]
  },
  {
   "cell_type": "code",
   "execution_count": 13,
   "id": "40e45227",
   "metadata": {},
   "outputs": [
    {
     "data": {
      "text/html": [
       "<div>\n",
       "<style scoped>\n",
       "    .dataframe tbody tr th:only-of-type {\n",
       "        vertical-align: middle;\n",
       "    }\n",
       "\n",
       "    .dataframe tbody tr th {\n",
       "        vertical-align: top;\n",
       "    }\n",
       "\n",
       "    .dataframe thead th {\n",
       "        text-align: right;\n",
       "    }\n",
       "</style>\n",
       "<table border=\"1\" class=\"dataframe\">\n",
       "  <thead>\n",
       "    <tr style=\"text-align: right;\">\n",
       "      <th></th>\n",
       "      <th>hgbn_alt_unic</th>\n",
       "      <th>q901r1</th>\n",
       "      <th>muac</th>\n",
       "      <th>tsft</th>\n",
       "      <th>q102</th>\n",
       "    </tr>\n",
       "  </thead>\n",
       "  <tbody>\n",
       "    <tr>\n",
       "      <th>191</th>\n",
       "      <td>13.4</td>\n",
       "      <td>79.0</td>\n",
       "      <td>34.75</td>\n",
       "      <td>21.5</td>\n",
       "      <td>1</td>\n",
       "    </tr>\n",
       "    <tr>\n",
       "      <th>192</th>\n",
       "      <td>13.4</td>\n",
       "      <td>79.0</td>\n",
       "      <td>34.75</td>\n",
       "      <td>21.5</td>\n",
       "      <td>1</td>\n",
       "    </tr>\n",
       "    <tr>\n",
       "      <th>193</th>\n",
       "      <td>13.4</td>\n",
       "      <td>79.0</td>\n",
       "      <td>34.75</td>\n",
       "      <td>21.5</td>\n",
       "      <td>1</td>\n",
       "    </tr>\n",
       "    <tr>\n",
       "      <th>194</th>\n",
       "      <td>13.4</td>\n",
       "      <td>79.0</td>\n",
       "      <td>34.75</td>\n",
       "      <td>21.5</td>\n",
       "      <td>1</td>\n",
       "    </tr>\n",
       "    <tr>\n",
       "      <th>195</th>\n",
       "      <td>13.4</td>\n",
       "      <td>79.0</td>\n",
       "      <td>34.75</td>\n",
       "      <td>21.5</td>\n",
       "      <td>1</td>\n",
       "    </tr>\n",
       "  </tbody>\n",
       "</table>\n",
       "</div>"
      ],
      "text/plain": [
       "     hgbn_alt_unic  q901r1   muac  tsft q102\n",
       "191           13.4    79.0  34.75  21.5    1\n",
       "192           13.4    79.0  34.75  21.5    1\n",
       "193           13.4    79.0  34.75  21.5    1\n",
       "194           13.4    79.0  34.75  21.5    1\n",
       "195           13.4    79.0  34.75  21.5    1"
      ]
     },
     "execution_count": 13,
     "metadata": {},
     "output_type": "execute_result"
    }
   ],
   "source": [
    "subset_df.head()"
   ]
  },
  {
   "cell_type": "code",
   "execution_count": 14,
   "id": "2c4372ad",
   "metadata": {},
   "outputs": [
    {
     "name": "stderr",
     "output_type": "stream",
     "text": [
      "C:\\Users\\Asus\\anaconda3\\lib\\site-packages\\pandas\\util\\_decorators.py:311: SettingWithCopyWarning: \n",
      "A value is trying to be set on a copy of a slice from a DataFrame\n",
      "\n",
      "See the caveats in the documentation: https://pandas.pydata.org/pandas-docs/stable/user_guide/indexing.html#returning-a-view-versus-a-copy\n",
      "  return func(*args, **kwargs)\n"
     ]
    }
   ],
   "source": [
    "subset_df.dropna(inplace=True)"
   ]
  },
  {
   "cell_type": "code",
   "execution_count": 15,
   "id": "9b504a33",
   "metadata": {},
   "outputs": [
    {
     "data": {
      "text/html": [
       "<div>\n",
       "<style scoped>\n",
       "    .dataframe tbody tr th:only-of-type {\n",
       "        vertical-align: middle;\n",
       "    }\n",
       "\n",
       "    .dataframe tbody tr th {\n",
       "        vertical-align: top;\n",
       "    }\n",
       "\n",
       "    .dataframe thead th {\n",
       "        text-align: right;\n",
       "    }\n",
       "</style>\n",
       "<table border=\"1\" class=\"dataframe\">\n",
       "  <thead>\n",
       "    <tr style=\"text-align: right;\">\n",
       "      <th></th>\n",
       "      <th>hgbn_alt_unic</th>\n",
       "      <th>q901r1</th>\n",
       "      <th>muac</th>\n",
       "      <th>tsft</th>\n",
       "    </tr>\n",
       "  </thead>\n",
       "  <tbody>\n",
       "    <tr>\n",
       "      <th>count</th>\n",
       "      <td>57231.000000</td>\n",
       "      <td>57231.000000</td>\n",
       "      <td>57231.000000</td>\n",
       "      <td>57231.000000</td>\n",
       "    </tr>\n",
       "    <tr>\n",
       "      <th>mean</th>\n",
       "      <td>13.099221</td>\n",
       "      <td>43.794910</td>\n",
       "      <td>22.762154</td>\n",
       "      <td>10.262686</td>\n",
       "    </tr>\n",
       "    <tr>\n",
       "      <th>std</th>\n",
       "      <td>1.747711</td>\n",
       "      <td>13.439347</td>\n",
       "      <td>4.125284</td>\n",
       "      <td>4.386778</td>\n",
       "    </tr>\n",
       "    <tr>\n",
       "      <th>min</th>\n",
       "      <td>3.900000</td>\n",
       "      <td>2.000000</td>\n",
       "      <td>8.300000</td>\n",
       "      <td>3.800000</td>\n",
       "    </tr>\n",
       "    <tr>\n",
       "      <th>25%</th>\n",
       "      <td>12.200000</td>\n",
       "      <td>34.900000</td>\n",
       "      <td>19.950001</td>\n",
       "      <td>7.000000</td>\n",
       "    </tr>\n",
       "    <tr>\n",
       "      <th>50%</th>\n",
       "      <td>13.200000</td>\n",
       "      <td>42.000000</td>\n",
       "      <td>22.549999</td>\n",
       "      <td>9.200000</td>\n",
       "    </tr>\n",
       "    <tr>\n",
       "      <th>75%</th>\n",
       "      <td>14.100000</td>\n",
       "      <td>51.800000</td>\n",
       "      <td>25.250000</td>\n",
       "      <td>12.700000</td>\n",
       "    </tr>\n",
       "    <tr>\n",
       "      <th>max</th>\n",
       "      <td>17.700001</td>\n",
       "      <td>93.800000</td>\n",
       "      <td>38.549999</td>\n",
       "      <td>31.700001</td>\n",
       "    </tr>\n",
       "  </tbody>\n",
       "</table>\n",
       "</div>"
      ],
      "text/plain": [
       "       hgbn_alt_unic        q901r1          muac          tsft\n",
       "count   57231.000000  57231.000000  57231.000000  57231.000000\n",
       "mean       13.099221     43.794910     22.762154     10.262686\n",
       "std         1.747711     13.439347      4.125284      4.386778\n",
       "min         3.900000      2.000000      8.300000      3.800000\n",
       "25%        12.200000     34.900000     19.950001      7.000000\n",
       "50%        13.200000     42.000000     22.549999      9.200000\n",
       "75%        14.100000     51.800000     25.250000     12.700000\n",
       "max        17.700001     93.800000     38.549999     31.700001"
      ]
     },
     "execution_count": 15,
     "metadata": {},
     "output_type": "execute_result"
    }
   ],
   "source": [
    "subset_df.describe()"
   ]
  },
  {
   "cell_type": "markdown",
   "id": "9030116b",
   "metadata": {},
   "source": [
    "## Exploratory Data Analysis\n"
   ]
  },
  {
   "cell_type": "code",
   "execution_count": 16,
   "id": "87732e0b",
   "metadata": {},
   "outputs": [
    {
     "data": {
      "image/png": "[encoded data removed]",
      "text/plain": [
       "<Figure size 864x720 with 2 Axes>"
      ]
     },
     "metadata": {
      "needs_background": "light"
     },
     "output_type": "display_data"
    }
   ],
   "source": [
    "subset_df1 = subset_df[['hgbn_alt_unic','tsft']]\n",
    "corr_matrix = subset_df1.corr()\n",
    "fig, ax = plt.subplots(figsize=(12, 10))\n",
    "sns.heatmap(corr_matrix, annot=True, cmap='coolwarm', center=0, ax=ax)\n",
    "ax.set_title('Correlation Matrix')\n",
    "plt.show()"
   ]
  },
  {
   "cell_type": "code",
   "execution_count": 17,
   "id": "240eb3e0",
   "metadata": {},
   "outputs": [
    {
     "name": "stdout",
     "output_type": "stream",
     "text": [
      "q102\n",
      "female    66948\n",
      "male      60232\n",
      "Name: hgbn_alt_unic, dtype: int64\n"
     ]
    }
   ],
   "source": [
    "# count missing values by age\n",
    "missing_values_by_gender = new_df.groupby('q102')['hgbn_alt_unic'].apply(lambda x: x.isnull().sum())\n",
    "\n",
    "\n",
    "# print the resulting series\n",
    "print(missing_values_by_gender)"
   ]
  },
  {
   "cell_type": "code",
   "execution_count": 18,
   "id": "6c9f43f4",
   "metadata": {},
   "outputs": [
    {
     "data": {
      "text/plain": [
       "female    95503\n",
       "male      90541\n",
       "Name: q102, dtype: int64"
      ]
     },
     "execution_count": 18,
     "metadata": {},
     "output_type": "execute_result"
    }
   ],
   "source": [
    "new_df['q102'].value_counts()"
   ]
  },
  {
   "cell_type": "code",
   "execution_count": 19,
   "id": "90041844",
   "metadata": {},
   "outputs": [
    {
     "data": {
      "text/plain": [
       "Text(0.5, 1.0, 'Box Plot of hgbn_alt_unic by q102')"
      ]
     },
     "execution_count": 19,
     "metadata": {},
     "output_type": "execute_result"
    },
    {
     "data": {
      "image/png": "[encoded data removed]",
      "text/plain": [
       "<Figure size 432x288 with 1 Axes>"
      ]
     },
     "metadata": {
      "needs_background": "light"
     },
     "output_type": "display_data"
    }
   ],
   "source": [
    "sns.boxplot(x='q102', y='hgbn_alt_unic', data=subset_df)\n",
    "plt.title('Box Plot of hgbn_alt_unic by q102')"
   ]
  },
  {
   "cell_type": "code",
   "execution_count": 20,
   "id": "1b575532",
   "metadata": {},
   "outputs": [
    {
     "data": {
      "text/plain": [
       "Text(0.5, 1.0, 'Box Plot of tsft by q102')"
      ]
     },
     "execution_count": 20,
     "metadata": {},
     "output_type": "execute_result"
    },
    {
     "data": {
      "image/png": "[encoded data removed]",
      "text/plain": [
       "<Figure size 432x288 with 1 Axes>"
      ]
     },
     "metadata": {
      "needs_background": "light"
     },
     "output_type": "display_data"
    }
   ],
   "source": [
    "sns.boxplot(x='q102', y='tsft', data=subset_df)\n",
    "plt.title('Box Plot of tsft by q102')"
   ]
  },
  {
   "cell_type": "code",
   "execution_count": 50,
   "id": "afcc4e47",
   "metadata": {},
   "outputs": [
    {
     "data": {
      "text/plain": [
       "Richest    88551\n",
       "Rich       54698\n",
       "Middle     29282\n",
       "Poor       11635\n",
       "Poorest     1878\n",
       "Name: wi, dtype: int64"
      ]
     },
     "execution_count": 50,
     "metadata": {},
     "output_type": "execute_result"
    }
   ],
   "source": [
    "new_df['wi'].value_counts()"
   ]
  },
  {
   "cell_type": "code",
   "execution_count": 52,
   "id": "c1b3f911",
   "metadata": {},
   "outputs": [
    {
     "data": {
      "text/plain": [
       "Richest    25154\n",
       "Rich       16683\n",
       "Middle     10641\n",
       "Poor        5620\n",
       "Poorest      766\n",
       "Name: wi, dtype: int64"
      ]
     },
     "execution_count": 52,
     "metadata": {},
     "output_type": "execute_result"
    }
   ],
   "source": [
    "new_df_1['wi'].value_counts()"
   ]
  },
  {
   "cell_type": "code",
   "execution_count": 21,
   "id": "34c89459",
   "metadata": {},
   "outputs": [
    {
     "data": {
      "image/png": "[encoded data removed]",
      "text/plain": [
       "<Figure size 432x288 with 1 Axes>"
      ]
     },
     "metadata": {
      "needs_background": "light"
     },
     "output_type": "display_data"
    }
   ],
   "source": [
    "from scipy.stats import gaussian_kde\n",
    "\n",
    "# Generate data\n",
    "data = subset_df['hgbn_alt_unic']\n",
    "\n",
    "# Estimate the pdf\n",
    "kde = gaussian_kde(data)\n",
    "\n",
    "# Generate points and evaluate the pdf\n",
    "x = np.linspace(3, 17, 10000)\n",
    "pdf = kde.evaluate(x)\n",
    "\n",
    "# Plot the data and the estimated pdf\n",
    "import matplotlib.pyplot as plt\n",
    "plt.plot(x, pdf, label='Kernel Density Estimation')\n",
    "plt.hist(data, 30, density=True, label='Data')\n",
    "plt.xlabel('x')\n",
    "plt.ylabel('Density')\n",
    "plt.legend()\n",
    "plt.show()"
   ]
  },
  {
   "cell_type": "markdown",
   "id": "0d4798a0",
   "metadata": {},
   "source": [
    "## OLS Regression"
   ]
  },
  {
   "cell_type": "code",
   "execution_count": 22,
   "id": "303943bf",
   "metadata": {},
   "outputs": [
    {
     "name": "stderr",
     "output_type": "stream",
     "text": [
      "C:\\Users\\Asus\\anaconda3\\lib\\site-packages\\statsmodels\\tsa\\tsatools.py:142: FutureWarning: In a future version of pandas all arguments of concat except for the argument 'objs' will be keyword-only\n",
      "  x = pd.concat(x[::order], 1)\n"
     ]
    }
   ],
   "source": [
    "X = subset_df[['tsft','q102','muac']]\n",
    "Y = subset_df['hgbn_alt_unic']\n",
    "X = sm.add_constant(X) #adding constant\n",
    "X_train, X_test, y_train, y_test = train_test_split(X, Y, test_size=0.2, random_state=42)\n",
    "model = sm.OLS(y_train,X_train).fit()\n",
    "y_pred_ols = model.predict(X_test)"
   ]
  },
  {
   "cell_type": "code",
   "execution_count": 23,
   "id": "743eb570",
   "metadata": {},
   "outputs": [
    {
     "data": {
      "text/plain": [
       "Index(['const', 'tsft', 'q102'], dtype='object')"
      ]
     },
     "execution_count": 23,
     "metadata": {},
     "output_type": "execute_result"
    }
   ],
   "source": [
    "X.columns"
   ]
  },
  {
   "cell_type": "code",
   "execution_count": 24,
   "id": "2e7efb4c",
   "metadata": {
    "scrolled": true
   },
   "outputs": [
    {
     "data": {
      "text/html": [
       "<table class=\"simpletable\">\n",
       "<caption>OLS Regression Results</caption>\n",
       "<tr>\n",
       "  <th>Dep. Variable:</th>      <td>hgbn_alt_unic</td>  <th>  R-squared:         </th> <td>   0.174</td> \n",
       "</tr>\n",
       "<tr>\n",
       "  <th>Model:</th>                   <td>OLS</td>       <th>  Adj. R-squared:    </th> <td>   0.174</td> \n",
       "</tr>\n",
       "<tr>\n",
       "  <th>Method:</th>             <td>Least Squares</td>  <th>  F-statistic:       </th> <td>   4826.</td> \n",
       "</tr>\n",
       "<tr>\n",
       "  <th>Date:</th>             <td>Mon, 03 Apr 2023</td> <th>  Prob (F-statistic):</th>  <td>  0.00</td>  \n",
       "</tr>\n",
       "<tr>\n",
       "  <th>Time:</th>                 <td>11:49:19</td>     <th>  Log-Likelihood:    </th> <td> -85948.</td> \n",
       "</tr>\n",
       "<tr>\n",
       "  <th>No. Observations:</th>      <td> 45784</td>      <th>  AIC:               </th> <td>1.719e+05</td>\n",
       "</tr>\n",
       "<tr>\n",
       "  <th>Df Residuals:</th>          <td> 45781</td>      <th>  BIC:               </th> <td>1.719e+05</td>\n",
       "</tr>\n",
       "<tr>\n",
       "  <th>Df Model:</th>              <td>     2</td>      <th>                     </th>     <td> </td>    \n",
       "</tr>\n",
       "<tr>\n",
       "  <th>Covariance Type:</th>      <td>nonrobust</td>    <th>                     </th>     <td> </td>    \n",
       "</tr>\n",
       "</table>\n",
       "<table class=\"simpletable\">\n",
       "<tr>\n",
       "    <td></td>       <th>coef</th>     <th>std err</th>      <th>t</th>      <th>P>|t|</th>  <th>[0.025</th>    <th>0.975]</th>  \n",
       "</tr>\n",
       "<tr>\n",
       "  <th>const</th> <td>   15.2642</td> <td>    0.027</td> <td>  575.654</td> <td> 0.000</td> <td>   15.212</td> <td>   15.316</td>\n",
       "</tr>\n",
       "<tr>\n",
       "  <th>tsft</th>  <td>   -0.0006</td> <td>    0.002</td> <td>   -0.356</td> <td> 0.722</td> <td>   -0.004</td> <td>    0.003</td>\n",
       "</tr>\n",
       "<tr>\n",
       "  <th>q102</th>  <td>   -1.4518</td> <td>    0.015</td> <td>  -95.910</td> <td> 0.000</td> <td>   -1.482</td> <td>   -1.422</td>\n",
       "</tr>\n",
       "</table>\n",
       "<table class=\"simpletable\">\n",
       "<tr>\n",
       "  <th>Omnibus:</th>       <td>9439.967</td> <th>  Durbin-Watson:     </th> <td>   1.993</td> \n",
       "</tr>\n",
       "<tr>\n",
       "  <th>Prob(Omnibus):</th>  <td> 0.000</td>  <th>  Jarque-Bera (JB):  </th> <td>31959.994</td>\n",
       "</tr>\n",
       "<tr>\n",
       "  <th>Skew:</th>           <td>-1.033</td>  <th>  Prob(JB):          </th> <td>    0.00</td> \n",
       "</tr>\n",
       "<tr>\n",
       "  <th>Kurtosis:</th>       <td> 6.534</td>  <th>  Cond. No.          </th> <td>    44.1</td> \n",
       "</tr>\n",
       "</table><br/><br/>Notes:<br/>[1] Standard Errors assume that the covariance matrix of the errors is correctly specified."
      ],
      "text/plain": [
       "<class 'statsmodels.iolib.summary.Summary'>\n",
       "\"\"\"\n",
       "                            OLS Regression Results                            \n",
       "==============================================================================\n",
       "Dep. Variable:          hgbn_alt_unic   R-squared:                       0.174\n",
       "Model:                            OLS   Adj. R-squared:                  0.174\n",
       "Method:                 Least Squares   F-statistic:                     4826.\n",
       "Date:                Mon, 03 Apr 2023   Prob (F-statistic):               0.00\n",
       "Time:                        11:49:19   Log-Likelihood:                -85948.\n",
       "No. Observations:               45784   AIC:                         1.719e+05\n",
       "Df Residuals:                   45781   BIC:                         1.719e+05\n",
       "Df Model:                           2                                         \n",
       "Covariance Type:            nonrobust                                         \n",
       "==============================================================================\n",
       "                 coef    std err          t      P>|t|      [0.025      0.975]\n",
       "------------------------------------------------------------------------------\n",
       "const         15.2642      0.027    575.654      0.000      15.212      15.316\n",
       "tsft          -0.0006      0.002     -0.356      0.722      -0.004       0.003\n",
       "q102          -1.4518      0.015    -95.910      0.000      -1.482      -1.422\n",
       "==============================================================================\n",
       "Omnibus:                     9439.967   Durbin-Watson:                   1.993\n",
       "Prob(Omnibus):                  0.000   Jarque-Bera (JB):            31959.994\n",
       "Skew:                          -1.033   Prob(JB):                         0.00\n",
       "Kurtosis:                       6.534   Cond. No.                         44.1\n",
       "==============================================================================\n",
       "\n",
       "Notes:\n",
       "[1] Standard Errors assume that the covariance matrix of the errors is correctly specified.\n",
       "\"\"\""
      ]
     },
     "execution_count": 24,
     "metadata": {},
     "output_type": "execute_result"
    }
   ],
   "source": [
    "model.summary()"
   ]
  },
  {
   "cell_type": "code",
   "execution_count": 25,
   "id": "5542f1fa",
   "metadata": {},
   "outputs": [
    {
     "name": "stdout",
     "output_type": "stream",
     "text": [
      "Mean squared error:  2.598966162046846\n",
      "Root mean squared error:  1.6121309382450442\n"
     ]
    }
   ],
   "source": [
    "mse = mean_squared_error(y_test, y_pred_ols)\n",
    "print(\"Mean squared error: \", mse)\n",
    "\n",
    "# Calculate the root mean squared error (RMSE)\n",
    "rmse = np.sqrt(mse)\n",
    "print(\"Root mean squared error: \", rmse)"
   ]
  },
  {
   "cell_type": "code",
   "execution_count": 26,
   "id": "d93f9690",
   "metadata": {},
   "outputs": [
    {
     "name": "stdout",
     "output_type": "stream",
     "text": [
      "R2 score:  0.1774000043552998\n"
     ]
    }
   ],
   "source": [
    "r2 = r2_score(y_test, y_pred_ols)\n",
    "print(\"R2 score: \", r2)"
   ]
  },
  {
   "cell_type": "code",
   "execution_count": 27,
   "id": "a5cc01cf",
   "metadata": {},
   "outputs": [
    {
     "name": "stdout",
     "output_type": "stream",
     "text": [
      "{'Test Statistic': 64.37920225423849, 'Test Statistic p-value': 3.4772497847397313e-13, 'F-Statistic': 16.115703983168306, 'F-Test p-value': 3.410983492014918e-13}\n"
     ]
    }
   ],
   "source": [
    "#We need to check for heteroskedasticity\n",
    "from statsmodels.stats.diagnostic import het_white\n",
    "#perform White's test\n",
    "white_test = het_white(model.resid,  model.model.exog)\n",
    "\n",
    "#define labels to use for output of White's test\n",
    "labels = ['Test Statistic', 'Test Statistic p-value', 'F-Statistic', 'F-Test p-value']\n",
    "\n",
    "#print results of White's test\n",
    "print(dict(zip(labels, white_test)))"
   ]
  },
  {
   "cell_type": "code",
   "execution_count": 28,
   "id": "c2708b26",
   "metadata": {},
   "outputs": [
    {
     "name": "stderr",
     "output_type": "stream",
     "text": [
      "C:\\Users\\Asus\\anaconda3\\lib\\site-packages\\statsmodels\\tsa\\tsatools.py:142: FutureWarning: In a future version of pandas all arguments of concat except for the argument 'objs' will be keyword-only\n",
      "  x = pd.concat(x[::order], 1)\n"
     ]
    }
   ],
   "source": [
    "X = subset_df[['tsft','q102']]\n",
    "Y = subset_df['hgbn_alt_unic']\n",
    "X = sm.add_constant(X) #adding constant\n",
    "X_train, X_test, y_train, y_test = train_test_split(X, Y, test_size=0.2, random_state=42)\n",
    "model_1 = sm.OLS(y_train,X_train).fit(cov_type='HC3')\n",
    "y_pred_ols = model.predict(X_test)"
   ]
  },
  {
   "cell_type": "code",
   "execution_count": 29,
   "id": "6f00c01f",
   "metadata": {},
   "outputs": [
    {
     "data": {
      "text/html": [
       "<table class=\"simpletable\">\n",
       "<caption>OLS Regression Results</caption>\n",
       "<tr>\n",
       "  <th>Dep. Variable:</th>      <td>hgbn_alt_unic</td>  <th>  R-squared:         </th> <td>   0.174</td> \n",
       "</tr>\n",
       "<tr>\n",
       "  <th>Model:</th>                   <td>OLS</td>       <th>  Adj. R-squared:    </th> <td>   0.174</td> \n",
       "</tr>\n",
       "<tr>\n",
       "  <th>Method:</th>             <td>Least Squares</td>  <th>  F-statistic:       </th> <td>   4817.</td> \n",
       "</tr>\n",
       "<tr>\n",
       "  <th>Date:</th>             <td>Mon, 03 Apr 2023</td> <th>  Prob (F-statistic):</th>  <td>  0.00</td>  \n",
       "</tr>\n",
       "<tr>\n",
       "  <th>Time:</th>                 <td>11:49:19</td>     <th>  Log-Likelihood:    </th> <td> -85948.</td> \n",
       "</tr>\n",
       "<tr>\n",
       "  <th>No. Observations:</th>      <td> 45784</td>      <th>  AIC:               </th> <td>1.719e+05</td>\n",
       "</tr>\n",
       "<tr>\n",
       "  <th>Df Residuals:</th>          <td> 45781</td>      <th>  BIC:               </th> <td>1.719e+05</td>\n",
       "</tr>\n",
       "<tr>\n",
       "  <th>Df Model:</th>              <td>     2</td>      <th>                     </th>     <td> </td>    \n",
       "</tr>\n",
       "<tr>\n",
       "  <th>Covariance Type:</th>         <td>HC3</td>       <th>                     </th>     <td> </td>    \n",
       "</tr>\n",
       "</table>\n",
       "<table class=\"simpletable\">\n",
       "<tr>\n",
       "    <td></td>       <th>coef</th>     <th>std err</th>      <th>z</th>      <th>P>|z|</th>  <th>[0.025</th>    <th>0.975]</th>  \n",
       "</tr>\n",
       "<tr>\n",
       "  <th>const</th> <td>   15.2642</td> <td>    0.025</td> <td>  598.682</td> <td> 0.000</td> <td>   15.214</td> <td>   15.314</td>\n",
       "</tr>\n",
       "<tr>\n",
       "  <th>tsft</th>  <td>   -0.0006</td> <td>    0.002</td> <td>   -0.379</td> <td> 0.705</td> <td>   -0.004</td> <td>    0.003</td>\n",
       "</tr>\n",
       "<tr>\n",
       "  <th>q102</th>  <td>   -1.4518</td> <td>    0.015</td> <td>  -95.237</td> <td> 0.000</td> <td>   -1.482</td> <td>   -1.422</td>\n",
       "</tr>\n",
       "</table>\n",
       "<table class=\"simpletable\">\n",
       "<tr>\n",
       "  <th>Omnibus:</th>       <td>9439.967</td> <th>  Durbin-Watson:     </th> <td>   1.993</td> \n",
       "</tr>\n",
       "<tr>\n",
       "  <th>Prob(Omnibus):</th>  <td> 0.000</td>  <th>  Jarque-Bera (JB):  </th> <td>31959.994</td>\n",
       "</tr>\n",
       "<tr>\n",
       "  <th>Skew:</th>           <td>-1.033</td>  <th>  Prob(JB):          </th> <td>    0.00</td> \n",
       "</tr>\n",
       "<tr>\n",
       "  <th>Kurtosis:</th>       <td> 6.534</td>  <th>  Cond. No.          </th> <td>    44.1</td> \n",
       "</tr>\n",
       "</table><br/><br/>Notes:<br/>[1] Standard Errors are heteroscedasticity robust (HC3)"
      ],
      "text/plain": [
       "<class 'statsmodels.iolib.summary.Summary'>\n",
       "\"\"\"\n",
       "                            OLS Regression Results                            \n",
       "==============================================================================\n",
       "Dep. Variable:          hgbn_alt_unic   R-squared:                       0.174\n",
       "Model:                            OLS   Adj. R-squared:                  0.174\n",
       "Method:                 Least Squares   F-statistic:                     4817.\n",
       "Date:                Mon, 03 Apr 2023   Prob (F-statistic):               0.00\n",
       "Time:                        11:49:19   Log-Likelihood:                -85948.\n",
       "No. Observations:               45784   AIC:                         1.719e+05\n",
       "Df Residuals:                   45781   BIC:                         1.719e+05\n",
       "Df Model:                           2                                         \n",
       "Covariance Type:                  HC3                                         \n",
       "==============================================================================\n",
       "                 coef    std err          z      P>|z|      [0.025      0.975]\n",
       "------------------------------------------------------------------------------\n",
       "const         15.2642      0.025    598.682      0.000      15.214      15.314\n",
       "tsft          -0.0006      0.002     -0.379      0.705      -0.004       0.003\n",
       "q102          -1.4518      0.015    -95.237      0.000      -1.482      -1.422\n",
       "==============================================================================\n",
       "Omnibus:                     9439.967   Durbin-Watson:                   1.993\n",
       "Prob(Omnibus):                  0.000   Jarque-Bera (JB):            31959.994\n",
       "Skew:                          -1.033   Prob(JB):                         0.00\n",
       "Kurtosis:                       6.534   Cond. No.                         44.1\n",
       "==============================================================================\n",
       "\n",
       "Notes:\n",
       "[1] Standard Errors are heteroscedasticity robust (HC3)\n",
       "\"\"\""
      ]
     },
     "execution_count": 29,
     "metadata": {},
     "output_type": "execute_result"
    }
   ],
   "source": [
    "model_1.summary()"
   ]
  },
  {
   "cell_type": "markdown",
   "id": "a0b20324",
   "metadata": {},
   "source": [
    "## Kernel Regression"
   ]
  },
  {
   "cell_type": "code",
   "execution_count": 30,
   "id": "8423548e",
   "metadata": {},
   "outputs": [],
   "source": [
    "from statsmodels.nonparametric.kernel_regression import KernelReg"
   ]
  },
  {
   "cell_type": "code",
   "execution_count": 46,
   "id": "2328e8e9",
   "metadata": {},
   "outputs": [],
   "source": [
    "X = subset_df[['tsft','q102']] #'q901r1','wc','height',,'ssft'\n",
    "Y = subset_df['hgbn_alt_unic']\n",
    "X_train, X_test, y_train, y_test = train_test_split(X, Y, test_size=0.2, random_state=42)\n",
    "kr = KernelReg(endog=y_train, exog=X_train , var_type='co',reg_type='lc')"
   ]
  },
  {
   "cell_type": "code",
   "execution_count": 47,
   "id": "376fb0a6",
   "metadata": {},
   "outputs": [
    {
     "name": "stdout",
     "output_type": "stream",
     "text": [
      "[3.48955638e+07 1.22612622e-01]\n"
     ]
    }
   ],
   "source": [
    "print(kr.bw)"
   ]
  },
  {
   "cell_type": "code",
   "execution_count": 48,
   "id": "f4fbf031",
   "metadata": {},
   "outputs": [],
   "source": [
    "y_pred_kr, mar = kr.fit(X_test)"
   ]
  },
  {
   "cell_type": "code",
   "execution_count": 49,
   "id": "54ad622f",
   "metadata": {},
   "outputs": [
    {
     "name": "stdout",
     "output_type": "stream",
     "text": [
      "Mean squared error:  2.632378712267011\n",
      "Root mean squared error:  1.6224606966786626\n"
     ]
    }
   ],
   "source": [
    "mse = mean_squared_error(y_test, y_pred_kr)\n",
    "print(\"Mean squared error: \", mse)\n",
    "\n",
    "# Calculate the root mean squared error (RMSE)\n",
    "rmse = np.sqrt(mse)\n",
    "print(\"Root mean squared error: \", rmse)"
   ]
  },
  {
   "cell_type": "code",
   "execution_count": null,
   "id": "1b5e26dc",
   "metadata": {},
   "outputs": [],
   "source": []
  }
 ],
 "metadata": {
  "kernelspec": {
   "display_name": "Python 3 (ipykernel)",
   "language": "python",
   "name": "python3"
  },
  "language_info": {
   "codemirror_mode": {
    "name": "ipython",
    "version": 3
   },
   "file_extension": ".py",
   "mimetype": "text/x-python",
   "name": "python",
   "nbconvert_exporter": "python",
   "pygments_lexer": "ipython3",
   "version": "3.9.7"
  }
 },
 "nbformat": 4,
 "nbformat_minor": 5
}
